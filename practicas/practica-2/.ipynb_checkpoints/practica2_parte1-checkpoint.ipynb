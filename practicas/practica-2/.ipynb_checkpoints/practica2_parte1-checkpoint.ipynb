{
 "cells": [
  {
   "cell_type": "markdown",
   "id": "ed50be76",
   "metadata": {},
   "source": [
    "## 1. Tomando el texto del README.md de numpy, imprima todas las líneas que contienen ‘http’ o ‘https’.\n",
    "Recordar: * split(): ¿qué caracter utilizarían para separar? * string in frase: para saber si un\n",
    "substring está incluido dentro de una frase * ¿podemos preguntar si un string se encuentra en una\n",
    "frase antes de recorrer la lista de palabras?"
   ]
  },
  {
   "cell_type": "code",
   "execution_count": 3,
   "id": "88fd3c82",
   "metadata": {},
   "outputs": [
    {
     "name": "stdout",
     "output_type": "stream",
     "text": [
      "https://numpy.org/\n",
      "https://dev.azure.com/numpy/numpy/_apis/build/status/numpy.numpy?branchname=main\n",
      "https://dev.azure.com/numpy/numpy/_build/latest?definitionid=1?branchname=main\n",
      "https://github.com/numpy/numpy/actions/workflows/build_test.yml/badge.svg\n",
      "https://github.com/numpy/numpy/actions/workflows/build_test.yml\n",
      "https://app.travis\n",
      "https://app.travis\n",
      "https://img.shields.io/circleci/project/github/numpy/numpy/main.svg?label=circleci\n",
      "https://circleci.com/gh/numpy/numpy\n",
      "https://codecov.io/gh/numpy/numpy/branch/main/graph/badge.svg\n",
      "https://codecov.io/gh/numpy/numpy\n",
      "https://img.shields.io/badge/powered%20by\n",
      "https://numfocus.org\n",
      "https://img.shields.io/pypi/dm/numpy.svg?label=pypi%20downloads\n",
      "https://pypi.org/project/numpy/\n",
      "https://img.shields.io/conda/dn/conda\n",
      "https://anaconda.org/conda\n",
      "https://img.shields.io/badge/stackoverflow\n",
      "https://stackoverflow.com/questions/tagged/numpy\n",
      "https://img.shields.io/badge/doi\n",
      "https://doi.org/10.1038/s41586\n",
      "https://www.numpy.org\n",
      "https://numpy.org/doc\n",
      "https://mail.python.org/mailman/listinfo/numpy\n",
      "https://github.com/numpy/numpy\n",
      "https://www.numpy.org/devdocs/dev/index.html\n",
      "https://github.com/numpy/numpy/issues\n",
      "https://tidelift.com/docs/security\n",
      "https://numpy.org/teams/\n",
      "https://numpy.org/code\n",
      "https://github.com/numpy/numpy/labels/good%20first%20issue\n",
      "https://mail.python.org/mailman/listinfo/numpy\n",
      "https://github.com/numpy/numpy.org\n",
      "https://numpy.org/contribute/\n",
      "https://opensource.guide/how\n"
     ]
    }
   ],
   "source": [
    "readme_numpy = \"\"\"# <a href=\"https://numpy.org/\"><img alt=\"NumPy\" src=\"/branding/logo/primary/numpylogo.svg\" height=\"60\"></a>\n",
    "\n",
    "<!--[![Azure Pipelines](https://dev.azure.com/numpy/numpy/_apis/build/status/numpy.numpy?branchName=main)](-->\n",
    "<!--https://dev.azure.com/numpy/numpy/_build/latest?definitionId=1?branchName=main)-->\n",
    "<!--[![Actions build_test](https://github.com/numpy/numpy/actions/workflows/build_test.yml/badge.svg)](-->\n",
    "<!--https://github.com/numpy/numpy/actions/workflows/build_test.yml)-->\n",
    "<!--[![TravisCI](https://app.travis-ci.com/numpy/numpy.svg?branch=main)](-->\n",
    "<!--https://app.travis-ci.com/numpy/numpy)-->\n",
    "<!--[![CircleCI](https://img.shields.io/circleci/project/github/numpy/numpy/main.svg?label=CircleCI)](-->\n",
    "<!--https://circleci.com/gh/numpy/numpy)-->\n",
    "<!--[![Codecov](https://codecov.io/gh/numpy/numpy/branch/main/graph/badge.svg)](-->\n",
    "<!--https://codecov.io/gh/numpy/numpy)-->\n",
    "\n",
    "[![Powered by NumFOCUS](https://img.shields.io/badge/powered%20by-NumFOCUS-orange.svg?style=flat&colorA=E1523D&colorB=007D8A)](\n",
    "https://numfocus.org)\n",
    "[![PyPI Downloads](https://img.shields.io/pypi/dm/numpy.svg?label=PyPI%20downloads)](\n",
    "https://pypi.org/project/numpy/)\n",
    "[![Conda Downloads](https://img.shields.io/conda/dn/conda-forge/numpy.svg?label=Conda%20downloads)](\n",
    "https://anaconda.org/conda-forge/numpy)\n",
    "[![Stack Overflow](https://img.shields.io/badge/stackoverflow-Ask%20questions-blue.svg)](\n",
    "https://stackoverflow.com/questions/tagged/numpy)\n",
    "[![Nature Paper](https://img.shields.io/badge/DOI-10.1038%2Fs41592--019--0686--2-blue)](\n",
    "https://doi.org/10.1038/s41586-020-2649-2)\n",
    "\n",
    "NumPy is the fundamental package for scientific computing with Python.\n",
    "\n",
    "- **Website:** https://www.numpy.org\n",
    "- **Documentation:** https://numpy.org/doc\n",
    "- **Mailing list:** https://mail.python.org/mailman/listinfo/numpy-discussion\n",
    "- **Source code:** https://github.com/numpy/numpy\n",
    "- **Contributing:** https://www.numpy.org/devdocs/dev/index.html\n",
    "- **Bug reports:** https://github.com/numpy/numpy/issues\n",
    "- **Report a security vulnerability:** https://tidelift.com/docs/security\n",
    "\n",
    "It provides:\n",
    "\n",
    "- a powerful N-dimensional array object\n",
    "- sophisticated (broadcasting) functions\n",
    "- tools for integrating C/C++ and Fortran code\n",
    "- useful linear algebra, Fourier transform, and random number capabilities\n",
    "\n",
    "Testing:\n",
    "\n",
    "NumPy requires `pytest` and `hypothesis`.  Tests can then be run after installation with:\n",
    "\n",
    "    python -c 'import numpy; numpy.test()'\n",
    "\n",
    "Code of Conduct\n",
    "----------------------\n",
    "\n",
    "NumPy is a community-driven open source project developed by a diverse group of\n",
    "[contributors](https://numpy.org/teams/). The NumPy leadership has made a strong\n",
    "commitment to creating an open, inclusive, and positive community. Please read the\n",
    "[NumPy Code of Conduct](https://numpy.org/code-of-conduct/) for guidance on how to interact\n",
    "with others in a way that makes our community thrive.\n",
    "\n",
    "Call for Contributions\n",
    "----------------------\n",
    "\n",
    "The NumPy project welcomes your expertise and enthusiasm!\n",
    "\n",
    "Small improvements or fixes are always appreciated; issues labeled as [\"good\n",
    "first issue\"](https://github.com/numpy/numpy/labels/good%20first%20issue)\n",
    "may be a good starting point. If you are considering larger contributions\n",
    "to the source code, please contact us through the [mailing\n",
    "list](https://mail.python.org/mailman/listinfo/numpy-discussion) first.\n",
    "\n",
    "Writing code isn’t the only way to contribute to NumPy. You can also:\n",
    "- review pull requests\n",
    "- help us stay on top of new and old issues\n",
    "- develop tutorials, presentations, and other educational materials\n",
    "- maintain and improve [our website](https://github.com/numpy/numpy.org)\n",
    "- develop graphic design for our brand assets and promotional materials\n",
    "- translate website content\n",
    "- help with outreach and onboard new contributors\n",
    "- write grant proposals and help with other fundraising efforts\n",
    "\n",
    "For more information about the ways you can contribute to NumPy, visit [our website](https://numpy.org/contribute/). \n",
    "If you’re unsure where to start or how your skills fit in, reach out! You can\n",
    "ask on the mailing list or here, on GitHub, by opening a new issue or leaving a\n",
    "comment on a relevant issue that is already open.\n",
    "\n",
    "Our preferred channels of communication are all public, but if you’d like to\n",
    "speak to us in private first, contact our community coordinators at\n",
    "numpy-team@googlegroups.com or on Slack (write numpy-team@googlegroups.com for\n",
    "an invitation).\n",
    "\n",
    "We also have a biweekly community call, details of which are announced on the\n",
    "mailing list. You are very welcome to join.\n",
    "\n",
    "If you are new to contributing to open source, [this\n",
    "guide](https://opensource.guide/how-to-contribute/) helps explain why, what,\n",
    "and how to successfully get involved.\" \"\"\"\n",
    "import re\n",
    "readme = re.split(' |;|,|\\*|\\(|\\[|\\n|\\]|\\)|-|\\\"|\\|\\]\\(|<!--|\\)\\]|\\ ', readme_numpy.lower())\n",
    "#print(readme)\n",
    "#readme = re.split('; |, |\\*|\\n |\\( |\\[ |\\n |\\] |\\) |- |\\\"', readme_numpy)\n",
    "#readme = re.split(' [ ] ( ) * ,', readme_numpy)\n",
    "for dire in range(len(readme)):\n",
    "    if \"https\" in readme[dire] or \"http\" in readme[dire]:\n",
    "        print(readme[dire])\n"
   ]
  },
  {
   "cell_type": "markdown",
   "id": "ea45cf6f",
   "metadata": {},
   "source": [
    "## 2. Indique la palabra que aparece mayor cantidad de veces en el texto del README.md de numpy.\n",
    "falta terminarlo"
   ]
  },
  {
   "cell_type": "code",
   "execution_count": 15,
   "id": "b467329d",
   "metadata": {},
   "outputs": [
    {
     "name": "stdout",
     "output_type": "stream",
     "text": [
      "(11, 'to')\n"
     ]
    }
   ],
   "source": [
    "# lista con todas las palabras\n",
    "#readme_numpy.lower().split())\n",
    "# lista con palabras sin repetir\n",
    "#print(set(readme))\n",
    "def ordenaDicFrec(dicfrec):\n",
    "    aux = [(dicfrec[key], key) for key in dicfrec]#aux es igual a una lista de tuplas(cant, key); recorre todo el dicciorario\n",
    "    aux.sort()#ordena\n",
    "    aux.reverse()\n",
    "    return aux\n",
    "palabras = readme_numpy.lower().split(\" \")\n",
    "repetidos = {}\n",
    "for i in palabras:\n",
    "    if i in repetidos:\n",
    "        repetidos[i] += 1\n",
    "    else:\n",
    "        repetidos[i]=1\n",
    "print(ordenaDicFrec(repetidos)[0])"
   ]
  },
  {
   "cell_type": "markdown",
   "id": "77ec2fc7",
   "metadata": {},
   "source": [
    "## Investigue el módulo Counter para simplificar la resolución"
   ]
  },
  {
   "cell_type": "code",
   "execution_count": 14,
   "id": "f7146f0e",
   "metadata": {},
   "outputs": [
    {
     "name": "stdout",
     "output_type": "stream",
     "text": [
      "(11, 'to')\n"
     ]
    }
   ],
   "source": [
    "#con la clase Counter se hace:\n",
    "from collections import Counter\n",
    "rep = Counter(palabras)\n",
    "print(ordenaDicFrec(rep)[0])"
   ]
  },
  {
   "cell_type": "markdown",
   "id": "339e6ca5",
   "metadata": {},
   "source": [
    "## 3. Dado un texto solicite por teclado una letra e imprima las palabras que comienzan con dicha letra. En caso que no se haya ingresado una letra, indique el error. Ver: módulo string"
   ]
  },
  {
   "cell_type": "code",
   "execution_count": 8,
   "id": "ed601130",
   "metadata": {},
   "outputs": [
    {
     "name": "stdout",
     "output_type": "stream",
     "text": [
      "Ingrese un texto \n",
      "hola como estas Hoy Habiendo\n",
      "hola\n",
      "Hoy\n",
      "Habiendo\n"
     ]
    }
   ],
   "source": [
    "import string\n",
    "print(\"Ingrese un texto \")\n",
    "texto = input()\n",
    "car = texto[0]\n",
    "\n",
    "alfabeto = string.ascii_letters\n",
    "if car in alfabeto:\n",
    "    texto= texto.split(\" \")\n",
    "    for i in range(len(texto)):\n",
    "        if car.lower() == texto[i][0].lower():\n",
    "            print(texto[i])\n",
    "else: \n",
    "    print(\"error no se ingreso un texto\")"
   ]
  },
  {
   "cell_type": "markdown",
   "id": "83555b7e",
   "metadata": {},
   "source": [
    "## 4. Para la aceptación de un artículo en un congreso se definen las siguientes especificaciones que deben cumplir y recomendaciones de escritura:\n",
    "• título: 10 palabras como máximo\n",
    "• cada oración del resumen:\n",
    "– hasta 12 palabras: fácil de leer\n",
    "– entre 13-17 palabras: aceptable para leer\n",
    "– entre 18-25 palabras: difícil de leer\n",
    "– mas de 25 palabras: muy difícil\n",
    "Dado un artículo en formato string, defina si cumple las especificaciones del título y cuántas oraciones tiene de cada categoría. El formato estándar en que recibe el string tiene la siguiente forma:\n",
    "evaluar = \"\"\" título: Experiences in Developing a Distributed Agent-based Modeling Toolkit\n",
    "with Python\n",
    "resumen: Distributed agent-based modeling (ABM) on high-performance computing resources\n",
    "provides the promise of capturing unprecedented details of large-scale complex systems.\n",
    "However, the specialized knowledge required for developing such ABMs creates barriers to\n",
    "wider adoption and utilization. Here we present our experiences in developing an initial\n",
    "implementation of Repast4Py, a Python-based distributed ABM toolkit. We build on our\n",
    "experiences in developing ABM toolkits, including Repast for High Performance Computing\n",
    "(Repast HPC), to identify the key elements of a useful distributed ABM toolkit. We leverage\n",
    "the Numba, NumPy, and PyTorch packages and the Python C-API to create a scalable modeling\n",
    "system that can exploit the largest HPC resources and emerging computing architectures.\n",
    "\"\"\"\n",
    "En este ejemplo debería informar:\n",
    "• titulo está ok\n",
    "• Cantidad de oraciones fáciles de leer: 1, aceptables para leer: 2, dificil de leer: 1, muy dificil\n",
    "de leer: 2\n",
    "Notas: * investigue Pattern Matching para una solución simplificada. * ¿cuántas variables utilizó\n",
    "para guardar la cantidad de cada categoría, se podría usar alguna estructura?\n"
   ]
  },
  {
   "cell_type": "code",
   "execution_count": 71,
   "id": "5cb37edd",
   "metadata": {},
   "outputs": [
    {
     "name": "stdout",
     "output_type": "stream",
     "text": [
      "El titulo esta ok\n",
      "Cantidad de oraciones fáciles de leer: 1, aceptables para leer: 2, dificil de leer: 1, muy dificil de leer: 2\n"
     ]
    }
   ],
   "source": [
    "evaluar = \"\"\"título: Experiences in Developing a Distributed Agent-based Modeling Toolkit\n",
    "with Python\n",
    "resumen: Distributed agent-based modeling (ABM) on high-performance computing resources\n",
    "provides the promise of capturing unprecedented details of large-scale complex systems.\n",
    "However, the specialized knowledge required for developing such ABMs creates barriers to\n",
    "wider adoption and utilization. Here we present our experiences in developing an initial\n",
    "implementation of Repast4Py, a Python-based distributed ABM toolkit. We build on our\n",
    "experiences in developing ABM toolkits, including Repast for High Performance Computing\n",
    "(Repast HPC), to identify the key elements of a useful distributed ABM toolkit. We leverage\n",
    "the Numba, NumPy, and PyTorch packages and the Python C-API to create a scalable modeling\n",
    "system that can exploit the largest HPC resources and emerging computing architectures.\"\"\"\n",
    "evaluar = re.split(\"título:|resumen:\", evaluar)\n",
    "titulo= re.split(\" |\\n\",evaluar[1])\n",
    "titulo.remove(\"\")\n",
    "titulo.remove(\"\")\n",
    "#print(titulo)\n",
    "resumen = re.split(\"\\.\",evaluar[2])\n",
    "if len(titulo)<=10:\n",
    "    print(\"El titulo esta ok\")\n",
    "else: \n",
    "    print(\"Es titulo tiene muchas palabras\")\n",
    "oraciones= {\"facil\":0, \"aceptable\":0, \"dificil\": 0, \"muy dificil\":0}\n",
    "for i in range(len(resumen)):\n",
    "    aux = len(resumen[i].split(\" \"))\n",
    "    if aux < 13:\n",
    "        oraciones[\"facil\"]+=1\n",
    "    elif aux<18:\n",
    "        oraciones[\"aceptable\"]+=1\n",
    "    elif aux<26:\n",
    "        oraciones[\"dificil\"]+=1\n",
    "    else:\n",
    "        oraciones[\"muy dificil\"]+= 1\n",
    "print(\"Cantidad de oraciones fáciles de leer: {}, aceptables para leer: {}, dificil de leer: {}, muy dificil de leer: {}\".format(oraciones[\"facil\"],oraciones[\"aceptable\"],oraciones[\"dificil\"], oraciones[\"muy dificil\"]))\n",
    "\n",
    "#hasta 12 palabras: fácil de leer\n",
    "#– entre 13-17 palabras: aceptable para leer\n",
    "#– entre 18-25 palabras: difícil de leer\n",
    "#– mas de 25 palabras: muy difícil"
   ]
  },
  {
   "cell_type": "markdown",
   "id": "aa00e164",
   "metadata": {},
   "source": [
    "## 5. Dada una frase y un string ingresados por teclado (en ese orden), e informe la cantidad de veces que se encuentra el string en la frase. No distingir entre mayúsculas y minúsculas."
   ]
  },
  {
   "cell_type": "code",
   "execution_count": 74,
   "id": "3215cfd6",
   "metadata": {},
   "outputs": [
    {
     "name": "stdout",
     "output_type": "stream",
     "text": [
      "Ingrese una frase\n",
      "Tres tristes tigres, tragaban trigo en un trigal, en tres tristes trastos, tragaban trigo tres tristes tigres.\n",
      "ingrese la palabra a contar\n",
      "TIGRES\n",
      "2\n"
     ]
    }
   ],
   "source": [
    "print(\"Ingrese una frase\")\n",
    "frase= input()\n",
    "print(\"ingrese la palabra a contar\")\n",
    "palabra= input()\n",
    "frase= re.split(\" |\\,|\\.\",frase.lower())\n",
    "r={}\n",
    "for i in frase:\n",
    "    if i in r:\n",
    "        r[i] += 1\n",
    "    else:\n",
    "        r[i]=1\n",
    "print(r[palabra.lower()])"
   ]
  },
  {
   "cell_type": "code",
   "execution_count": null,
   "id": "c13ddb74",
   "metadata": {},
   "outputs": [],
   "source": []
  }
 ],
 "metadata": {
  "kernelspec": {
   "display_name": "Python 3 (ipykernel)",
   "language": "python",
   "name": "python3"
  },
  "language_info": {
   "codemirror_mode": {
    "name": "ipython",
    "version": 3
   },
   "file_extension": ".py",
   "mimetype": "text/x-python",
   "name": "python",
   "nbconvert_exporter": "python",
   "pygments_lexer": "ipython3",
   "version": "3.10.0"
  }
 },
 "nbformat": 4,
 "nbformat_minor": 5
}
