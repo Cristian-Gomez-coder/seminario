{
 "cells": [
  {
   "cell_type": "markdown",
   "id": "6fd87861",
   "metadata": {},
   "source": [
    "# 10. Trabajando con los contenidos de los archivos que pueden acceder en el curso:• nombres• eval1 5• eval2 Manipule estos archivos ara realizar lo siguiente:• Generar una estructura con los nombres de los estudiantes y la suma de ambas notas.• calcular el promedio de las notas totales e informar que alumnos obtuvieron menos que el promedio."
   ]
  },
  {
   "cell_type": "markdown",
   "id": "411287d5",
   "metadata": {},
   "source": [
    "## Defino las funciones para pasear los archivos:\n",
    "#### parsear_notas: recibe el nombre del archivo de numeros y devuelve una lista de int .\n",
    "#### parsear_nombres: recibe el nombre del archivo de nombres y devuelve una lista con cada nombre del archivo."
   ]
  },
  {
   "cell_type": "code",
   "execution_count": 2,
   "id": "c4c937a2",
   "metadata": {},
   "outputs": [],
   "source": [
    "##def parsear_archivo(arch : _io, l : list ):\n",
    "import re    \n",
    "def parsear_notas(nom_arch):\n",
    "    aux=open(nom_arch,encoding=\"utf8\")\n",
    "    aux= list(re.split(\"'|\\n|,| \",aux.read()))\n",
    "    aux= [p for p in aux if p]\n",
    "    for i in range(len(aux)):\n",
    "        aux[i] = int(aux[i])\n",
    "    return aux\n",
    "def parsear_nombres(nom_arch):\n",
    "    aux=open(nom_arch,encoding=\"utf8\")\n",
    "    aux= list(re.split(\"'|\\n|,| \",aux.read()))\n",
    "    aux= [p for p in aux if p]\n",
    "    return aux\n"
   ]
  },
  {
   "cell_type": "markdown",
   "id": "134274b9",
   "metadata": {},
   "source": [
    "### Invoco a las funciones y lo guardo en sus variables"
   ]
  },
  {
   "cell_type": "code",
   "execution_count": 3,
   "id": "b84375ac",
   "metadata": {},
   "outputs": [],
   "source": [
    "nombres1= parsear_nombres(\"nombres_1.txt\")\n",
    "aval1= parsear_notas(\"eval1.txt\")\n",
    "aval2= parsear_notas(\"eval2.txt\")\n"
   ]
  },
  {
   "cell_type": "markdown",
   "id": "40f1fda5",
   "metadata": {},
   "source": [
    "### Creo e inicialiso las variables\n",
    "### creo una funcion lambda que devuelve una tupla\n",
    "descarte la opcion de usar un diccionario ya que los nombres se podrian repetir"
   ]
  },
  {
   "cell_type": "code",
   "execution_count": 4,
   "id": "245dbb21",
   "metadata": {},
   "outputs": [],
   "source": [
    "nombres_y_notas = []\n",
    "total_notas= 0\n",
    "sumar_con_nombres = lambda nombres,total: (nombres,total) \n"
   ]
  },
  {
   "cell_type": "markdown",
   "id": "84b43154",
   "metadata": {},
   "source": [
    "### recorro la lista de nombre y voy guardando la suma de las 2 notas en una lista de tuplas con (nombre, total)"
   ]
  },
  {
   "cell_type": "code",
   "execution_count": 9,
   "id": "860f81e2",
   "metadata": {},
   "outputs": [],
   "source": [
    "for i in range(len(nombres1)): \n",
    "    nombres_y_notas.append(sumar_con_nombres(nombres1[i], aval1[i]+aval2[i]))\n",
    "    total_notas+=aval1[i]+aval2[i]"
   ]
  },
  {
   "cell_type": "markdown",
   "id": "e87835ec",
   "metadata": {},
   "source": [
    "### calculo el promedio de ambas notas totales"
   ]
  },
  {
   "cell_type": "code",
   "execution_count": 18,
   "id": "e8ef584c",
   "metadata": {},
   "outputs": [
    {
     "name": "stdout",
     "output_type": "stream",
     "text": [
      "48.09574468085106\n"
     ]
    }
   ],
   "source": [
    "prom = (total_notas/len(nombres_y_notas))/2"
   ]
  },
  {
   "cell_type": "markdown",
   "id": "3490867e",
   "metadata": {},
   "source": [
    "### recorro nombres_y_notas e imprimo los que el total estan debajo del promedio de las dos notas"
   ]
  },
  {
   "cell_type": "code",
   "execution_count": 17,
   "id": "9e91cb9f",
   "metadata": {},
   "outputs": [
    {
     "name": "stdout",
     "output_type": "stream",
     "text": [
      "El alumno CESAR esta por debajo del promedio\n",
      "El alumno Diego esta por debajo del promedio\n",
      "El alumno Dolores esta por debajo del promedio\n",
      "El alumno DYLAN esta por debajo del promedio\n",
      "El alumno ELIANA esta por debajo del promedio\n",
      "El alumno Emanuel esta por debajo del promedio\n",
      "El alumno GONZALO esta por debajo del promedio\n",
      "El alumno Gregorio esta por debajo del promedio\n",
      "El alumno Ignacio esta por debajo del promedio\n",
      "El alumno Jonathan esta por debajo del promedio\n",
      "El alumno Jorge esta por debajo del promedio\n",
      "El alumno JUAN esta por debajo del promedio\n",
      "El alumno Julian esta por debajo del promedio\n",
      "El alumno Leonel esta por debajo del promedio\n",
      "El alumno Nicolás esta por debajo del promedio\n",
      "El alumno NICOLÁS esta por debajo del promedio\n",
      "El alumno Priscila esta por debajo del promedio\n",
      "El alumno Yanina esta por debajo del promedio\n",
      "El alumno CESAR esta por debajo del promedio\n",
      "El alumno Diego esta por debajo del promedio\n",
      "El alumno Dolores esta por debajo del promedio\n",
      "El alumno DYLAN esta por debajo del promedio\n",
      "El alumno ELIANA esta por debajo del promedio\n",
      "El alumno Emanuel esta por debajo del promedio\n",
      "El alumno GONZALO esta por debajo del promedio\n",
      "El alumno Gregorio esta por debajo del promedio\n",
      "El alumno Ignacio esta por debajo del promedio\n",
      "El alumno Jonathan esta por debajo del promedio\n",
      "El alumno Jorge esta por debajo del promedio\n",
      "El alumno JUAN esta por debajo del promedio\n",
      "El alumno Julian esta por debajo del promedio\n",
      "El alumno Leonel esta por debajo del promedio\n",
      "El alumno Nicolás esta por debajo del promedio\n",
      "El alumno NICOLÁS esta por debajo del promedio\n",
      "El alumno Priscila esta por debajo del promedio\n",
      "El alumno Yanina esta por debajo del promedio\n"
     ]
    }
   ],
   "source": [
    "for n in nombres_y_notas:\n",
    "    if (n[1]/2) < prom:\n",
    "        print(f\"El alumno {n[0]} esta por debajo del promedio\")"
   ]
  },
  {
   "cell_type": "code",
   "execution_count": null,
   "id": "97c83163",
   "metadata": {},
   "outputs": [],
   "source": []
  },
  {
   "cell_type": "code",
   "execution_count": null,
   "id": "b21d52d1",
   "metadata": {},
   "outputs": [],
   "source": []
  }
 ],
 "metadata": {
  "kernelspec": {
   "display_name": "Python 3 (ipykernel)",
   "language": "python",
   "name": "python3"
  },
  "language_info": {
   "codemirror_mode": {
    "name": "ipython",
    "version": 3
   },
   "file_extension": ".py",
   "mimetype": "text/x-python",
   "name": "python",
   "nbconvert_exporter": "python",
   "pygments_lexer": "ipython3",
   "version": "3.10.0"
  }
 },
 "nbformat": 4,
 "nbformat_minor": 5
}
