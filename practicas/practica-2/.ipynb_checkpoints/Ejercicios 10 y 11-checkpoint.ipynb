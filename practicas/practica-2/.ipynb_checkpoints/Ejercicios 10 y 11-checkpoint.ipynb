{
 "cells": [
  {
   "cell_type": "markdown",
   "id": "ed7daff0",
   "metadata": {},
   "source": [
    "10. Trabajando con los contenidos de los archivos que pueden acceder en el curso:\n",
    "• nombres\n",
    "• eval1\n",
    "5\n",
    "• eval2\n",
    "Manipule estos archivos para realizar lo siguiente:\n",
    "• Generar una estructura con los nombres de los estudiantes y la suma de ambas notas.\n",
    "• Calcular el promedio de las notas totales e informar que alumnos obtuvieron menos que el\n",
    "promedio."
   ]
  },
  {
   "cell_type": "code",
   "execution_count": 20,
   "id": "5f8abcaa",
   "metadata": {},
   "outputs": [
    {
     "name": "stdout",
     "output_type": "stream",
     "text": [
      "CESAR\n",
      "Diego\n",
      "Dolores\n",
      "DYLAN\n",
      "ELIANA\n",
      "Emanuel\n",
      "GONZALO\n",
      "Gregorio\n",
      "Ignacio\n",
      "Jonathan\n",
      "Jorge\n",
      "JUAN\n",
      "Julian\n",
      "Leonel\n",
      "Nicolás\n",
      "NICOLÁS\n",
      "Priscila\n",
      "Yanina\n"
     ]
    }
   ],
   "source": [
    "nombres=['Agustin','Alan','Andrés', 'Ariadna', 'Bautista', 'CAROLINA', 'CESAR', 'David', 'Diego', 'Dolores', 'DYLAN', 'ELIANA', 'Emanuel', 'Fabián', 'Facundo', 'Facundo', 'FEDERICO', 'FEDERICO', 'GONZALO', 'Gregorio', 'Ignacio', 'Jonathan', 'Jonathan', 'Jorge', 'JOSE', 'JUAN', 'Juan', 'Juan', 'Julian', 'Julieta', 'LAUTARO', 'Leonel', 'LUIS', 'Luis', 'Marcos', 'María', 'MATEO', 'Matias', 'Nicolás', 'NICOLÁS', 'Noelia', 'Pablo', 'Priscila', 'TOMAS', 'Tomás', 'Ulises', 'Yanina']\n",
    "aval1=[81, 60, 72, 24, 15, 91, 12, 70, 29, 42, 16, 3, 35, 67, 10, 57, 11, 69, 12, 77, 13, 86, 48, 65, 51, 41, 87, 43, 10, 87, 91, 15, 44, 85, 73, 37, 42, 95, 18, 7, 74, 60, 9, 65, 93, 63, 74]\n",
    "aval2=[30, 95, 28, 84, 84, 43, 66, 51, 4, 11, 58, 10, 13, 34, 96, 71, 86, 37, 64, 13, 8, 87, 14, 14, 49, 27, 55, 69, 77, 59, 57, 40, 96, 24, 30, 73, 95, 19, 47, 15, 31, 39, 15, 74, 33, 57, 10]\n",
    "nombres_y_notas = []\n",
    "sumar_dos_num= lambda a, b : a + b\n",
    "sumar_con_nombres = lambda nombres,total: (nombres,total) \n",
    "total_notas= 0\n",
    "\n",
    "for i in range(len(nombres)): \n",
    "    nombres_y_notas.append(sumar_con_nombres(nombres[i], sumar_dos_num(aval1[i],aval2[i])))\n",
    "    total_notas+=sumar_dos_num(aval1[i],aval2[i])\n",
    "\n",
    "prom = total_notas/len(nombres_y_notas)\n",
    "\n",
    "for n in nombres_y_notas:\n",
    "    if n[1] < prom:\n",
    "        print(n[0])"
   ]
  },
  {
   "cell_type": "markdown",
   "id": "e91e38d0",
   "metadata": {},
   "source": [
    "11. Con la información de los archivos de texto que se encuentran disponibles en el curso:\n",
    "• nombres_1\n",
    "• nombres_2\n",
    "• Indique los nombres que se encuentran en ambos. Nota: pruebe utilizando list comprehension.\n",
    "• Genere tres variables con la lista de notas y nombres que se incluyen en los archivos: nombres_1, eval1.txt y eval2.txt e imprima con formato los nombres de los estudiantes con las\n",
    "correspondientes nota y la suma de ambas como se ve en la imagen"
   ]
  },
  {
   "cell_type": "code",
   "execution_count": 37,
   "id": "5009d380",
   "metadata": {},
   "outputs": [
    {
     "name": "stdout",
     "output_type": "stream",
     "text": [
      "['Bautista', 'CESAR', 'Diego', 'ELIANA', 'Facundo', 'Facundo', 'Facundo', 'Facundo', 'Ignacio', 'JUAN', 'Juan', 'Marcos', 'Marcos', 'MATEO', 'Matias', 'Tomás', 'Tomás', 'Ulises', 'Yanina']\n",
      "   Nombre          aval1    aval2    total   \n",
      "0  Agustin         81       30       111     \n",
      "1  Alan            60       95       155     \n",
      "2  Andrés          72       28       100     \n",
      "3  Ariadna         24       84       108     \n",
      "4  Bautista        15       84       99      \n",
      "5  CAROLINA        91       43       134     \n",
      "6  CESAR           12       66       78      \n",
      "7  David           70       51       121     \n",
      "8  Diego           29       4        33      \n",
      "9  Dolores         42       11       53      \n",
      "10 DYLAN           16       58       74      \n",
      "11 ELIANA          3        10       13      \n",
      "12 Emanuel         35       13       48      \n",
      "13 Fabián          67       34       101     \n",
      "14 Facundo         10       96       106     \n",
      "15 Facundo         57       71       128     \n",
      "16 FEDERICO        11       86       97      \n",
      "17 FEDERICO        69       37       106     \n",
      "18 GONZALO         12       64       76      \n",
      "19 Gregorio        77       13       90      \n",
      "20 Ignacio         13       8        21      \n",
      "21 Jonathan        86       87       173     \n",
      "22 Jonathan        48       14       62      \n",
      "23 Jorge           65       14       79      \n",
      "24 JOSE            51       49       100     \n",
      "25 JUAN            41       27       68      \n",
      "26 Juan            87       55       142     \n",
      "27 Juan            43       69       112     \n",
      "28 Julian          10       77       87      \n",
      "29 Julieta         87       59       146     \n",
      "30 LAUTARO         91       57       148     \n",
      "31 Leonel          15       40       55      \n",
      "32 LUIS            44       96       140     \n",
      "33 Luis            85       24       109     \n",
      "34 Marcos          73       30       103     \n",
      "35 María           37       73       110     \n",
      "36 MATEO           42       95       137     \n",
      "37 Matias          95       19       114     \n",
      "38 Nicolás         18       47       65      \n",
      "39 NICOLÁS         7        15       22      \n",
      "40 Noelia          74       31       105     \n",
      "41 Pablo           60       39       99      \n",
      "42 Priscila        9        15       24      \n",
      "43 TOMAS           65       74       139     \n",
      "44 Tomás           93       33       126     \n",
      "45 Ulises          63       57       120     \n",
      "46 Yanina          74       10       84      \n"
     ]
    }
   ],
   "source": [
    "nombres_1=['Agustin','Alan','Andrés', 'Ariadna', 'Bautista', 'CAROLINA', 'CESAR', 'David', 'Diego', 'Dolores', 'DYLAN', 'ELIANA', 'Emanuel', 'Fabián', 'Facundo', 'Facundo', 'FEDERICO', 'FEDERICO', 'GONZALO', 'Gregorio', 'Ignacio', 'Jonathan', 'Jonathan', 'Jorge', 'JOSE', 'JUAN', 'Juan', 'Juan', 'Julian', 'Julieta', 'LAUTARO', 'Leonel', 'LUIS', 'Luis', 'Marcos', 'María', 'MATEO', 'Matias', 'Nicolás', 'NICOLÁS', 'Noelia', 'Pablo', 'Priscila', 'TOMAS', 'Tomás', 'Ulises', 'Yanina']\n",
    "nombres_2=[ 'Ariana', 'Bautista', 'Braian', 'Carla', 'CESAR', 'Daniel', 'Diego', 'ELIANA', 'Facundo', 'Facundo', 'Facundo', 'Facundo', 'Federico', 'Federico', 'Flavia', 'Francisco', 'Germán', 'Guido', 'GUSTAVO', 'Hilario', 'Ignacio', 'IVAN', 'Jimmy', 'Joaquín', 'Jose', 'Josue', 'JUAN', 'Juan', 'Laura', 'LAURA', 'Lautaro', 'Lautaro', 'Ludmila', 'Marcos', 'Marcos', 'MARIANELA', 'MARTIN', 'MATEO', 'Mateo', 'Matias', 'MAURO', 'Maximiliano', 'NESTOR', 'Nicolas', 'Pedro', 'Ramiro', 'Sofía', 'Tobias', 'Tomás', 'Tomás', 'Ulises', 'Yanina']\n",
    "nombres_en_los_dos= [n for n in nombres_2 if n in nombres_1]\n",
    "print(nombres_en_los_dos)\n",
    "print(\"{:<2} {:<15} {:<8} {:<8} {:<8}\".format(' ','Nombre','aval1','aval2', 'total'))\n",
    "for i in range(len(nombres)):\n",
    "    print (\"{:<2} {:<15} {:<8} {:<8} {:<8}\".format(i, nombres[i],aval1[i],aval2[i], (aval1[i]+aval2[i])))\n",
    "    "
   ]
  },
  {
   "cell_type": "code",
   "execution_count": null,
   "id": "2b800d5a",
   "metadata": {},
   "outputs": [],
   "source": []
  }
 ],
 "metadata": {
  "kernelspec": {
   "display_name": "Python 3 (ipykernel)",
   "language": "python",
   "name": "python3"
  },
  "language_info": {
   "codemirror_mode": {
    "name": "ipython",
    "version": 3
   },
   "file_extension": ".py",
   "mimetype": "text/x-python",
   "name": "python",
   "nbconvert_exporter": "python",
   "pygments_lexer": "ipython3",
   "version": "3.10.0"
  }
 },
 "nbformat": 4,
 "nbformat_minor": 5
}
