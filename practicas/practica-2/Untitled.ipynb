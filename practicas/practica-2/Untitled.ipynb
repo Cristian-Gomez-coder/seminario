{
 "cells": [
  {
   "cell_type": "code",
   "execution_count": 8,
   "id": "8f90fc00",
   "metadata": {},
   "outputs": [
    {
     "name": "stdout",
     "output_type": "stream",
     "text": [
      "<_io.TextIOWrapper name='netflix_titles.csv' mode='r' encoding='cp1252'>\n",
      "['show_id', 'type', 'title', 'director', 'cast', 'country', 'date_added', 'release_year', 'rating', 'duration', 'listed_in', 'description']\n",
      "['s1', 'Movie', 'Dick Johnson Is Dead', 'Kirsten Johnson', '', 'United States', 'September 25, 2021', '2020', 'PG-13', '90 min', 'Documentaries', 'As her father nears the end of his life, filmmaker Kirsten Johnson stages his death in inventive and comical ways to help them both face the inevitable.']\n"
     ]
    }
   ],
   "source": [
    "import csv\n",
    "import os\n",
    "ruta = os.path.dirname(os.path.realpath(\".\"))\n",
    "ruta_archivo = os.path.join(ruta, \"teorias\", \"ejemplos\",\"clase4\", \"netflix_titles.csv\")\n",
    "ruta_archivo\n",
    "archivo = open(\"netflix_titles.csv\", \"r\")\n",
    "print(archivo)\n",
    "csvreader = csv.reader(archivo, delimiter=',')\n",
    "encabezado = csvreader.__next__()\n",
    "print(encabezado)\n",
    "encabezado = next(csvreader)\n",
    "print(encabezado)\n"
   ]
  },
  {
   "cell_type": "code",
   "execution_count": 13,
   "id": "2417edc1",
   "metadata": {},
   "outputs": [
    {
     "name": "stdout",
     "output_type": "stream",
     "text": [
      "<filter object at 0x0000029BE46FE1A0>\n",
      "The Kingdom                              \n",
      "<filter object at 0x0000029BE46FE1A0>\n"
     ]
    },
    {
     "ename": "UnicodeDecodeError",
     "evalue": "'charmap' codec can't decode byte 0x81 in position 3501: character maps to <undefined>",
     "output_type": "error",
     "traceback": [
      "\u001b[1;31m---------------------------------------------------------------------------\u001b[0m",
      "\u001b[1;31mUnicodeDecodeError\u001b[0m                        Traceback (most recent call last)",
      "\u001b[1;32mc:\\Users\\flia\\OneDrive\\Escritorio\\GUSTAVO\\Analista Programador Universitario\\2° año\\seminario python\\practicas\\practica-2\\Untitled.ipynb Cell 2'\u001b[0m in \u001b[0;36m<cell line: 4>\u001b[1;34m()\u001b[0m\n\u001b[0;32m      <a href='vscode-notebook-cell:/c%3A/Users/flia/OneDrive/Escritorio/GUSTAVO/Analista%20Programador%20Universitario/2%C2%B0%20a%C3%B1o/seminario%20python/practicas/practica-2/Untitled.ipynb#ch0000001?line=1'>2</a>\u001b[0m shows_ar \u001b[39m=\u001b[39m \u001b[39mfilter\u001b[39m(\u001b[39mlambda\u001b[39;00m x: x[\u001b[39m5\u001b[39m] \u001b[39m==\u001b[39m \u001b[39m\"\u001b[39m\u001b[39mArgentina\u001b[39m\u001b[39m\"\u001b[39m \u001b[39mand\u001b[39;00m x[\u001b[39m1\u001b[39m] \u001b[39m==\u001b[39m \u001b[39m\"\u001b[39m\u001b[39mTV Show\u001b[39m\u001b[39m\"\u001b[39m, csvreader)\n\u001b[0;32m      <a href='vscode-notebook-cell:/c%3A/Users/flia/OneDrive/Escritorio/GUSTAVO/Analista%20Programador%20Universitario/2%C2%B0%20a%C3%B1o/seminario%20python/practicas/practica-2/Untitled.ipynb#ch0000001?line=2'>3</a>\u001b[0m \u001b[39mprint\u001b[39m(shows_ar)\n\u001b[1;32m----> <a href='vscode-notebook-cell:/c%3A/Users/flia/OneDrive/Escritorio/GUSTAVO/Analista%20Programador%20Universitario/2%C2%B0%20a%C3%B1o/seminario%20python/practicas/practica-2/Untitled.ipynb#ch0000001?line=3'>4</a>\u001b[0m \u001b[39mfor\u001b[39;00m elem \u001b[39min\u001b[39;00m shows_ar:\n\u001b[0;32m      <a href='vscode-notebook-cell:/c%3A/Users/flia/OneDrive/Escritorio/GUSTAVO/Analista%20Programador%20Universitario/2%C2%B0%20a%C3%B1o/seminario%20python/practicas/practica-2/Untitled.ipynb#ch0000001?line=4'>5</a>\u001b[0m     \u001b[39mprint\u001b[39m(\u001b[39mf\u001b[39m\u001b[39m\"\u001b[39m\u001b[39m{\u001b[39;00melem[\u001b[39m2\u001b[39m]\u001b[39m:\u001b[39;00m\u001b[39m<40\u001b[39m\u001b[39m}\u001b[39;00m\u001b[39m \u001b[39m\u001b[39m{\u001b[39;00melem[\u001b[39m3\u001b[39m]\u001b[39m}\u001b[39;00m\u001b[39m\"\u001b[39m)\n\u001b[0;32m      <a href='vscode-notebook-cell:/c%3A/Users/flia/OneDrive/Escritorio/GUSTAVO/Analista%20Programador%20Universitario/2%C2%B0%20a%C3%B1o/seminario%20python/practicas/practica-2/Untitled.ipynb#ch0000001?line=5'>6</a>\u001b[0m     \u001b[39mprint\u001b[39m(shows_ar)\n",
      "File \u001b[1;32m~\\AppData\\Local\\Programs\\Python\\Python310\\lib\\encodings\\cp1252.py:23\u001b[0m, in \u001b[0;36mIncrementalDecoder.decode\u001b[1;34m(self, input, final)\u001b[0m\n\u001b[0;32m     <a href='file:///c%3A/Users/flia/AppData/Local/Programs/Python/Python310/lib/encodings/cp1252.py?line=21'>22</a>\u001b[0m \u001b[39mdef\u001b[39;00m \u001b[39mdecode\u001b[39m(\u001b[39mself\u001b[39m, \u001b[39minput\u001b[39m, final\u001b[39m=\u001b[39m\u001b[39mFalse\u001b[39;00m):\n\u001b[1;32m---> <a href='file:///c%3A/Users/flia/AppData/Local/Programs/Python/Python310/lib/encodings/cp1252.py?line=22'>23</a>\u001b[0m     \u001b[39mreturn\u001b[39;00m codecs\u001b[39m.\u001b[39;49mcharmap_decode(\u001b[39minput\u001b[39;49m,\u001b[39mself\u001b[39;49m\u001b[39m.\u001b[39;49merrors,decoding_table)[\u001b[39m0\u001b[39m]\n",
      "\u001b[1;31mUnicodeDecodeError\u001b[0m: 'charmap' codec can't decode byte 0x81 in position 3501: character maps to <undefined>"
     ]
    }
   ],
   "source": [
    "csvreader = csv.reader(archivo, delimiter=',')\n",
    "shows_ar = filter(lambda x: x[5] == \"Argentina\" and x[1] == \"TV Show\", csvreader)\n",
    "print(shows_ar)\n",
    "for elem in shows_ar:\n",
    "    print(f\"{elem[2]:<40} {elem[3]}\")\n",
    "    print(shows_ar)\n"
   ]
  }
 ],
 "metadata": {
  "kernelspec": {
   "display_name": "Python 3 (ipykernel)",
   "language": "python",
   "name": "python3"
  },
  "language_info": {
   "codemirror_mode": {
    "name": "ipython",
    "version": 3
   },
   "file_extension": ".py",
   "mimetype": "text/x-python",
   "name": "python",
   "nbconvert_exporter": "python",
   "pygments_lexer": "ipython3",
   "version": "3.10.0"
  }
 },
 "nbformat": 4,
 "nbformat_minor": 5
}
