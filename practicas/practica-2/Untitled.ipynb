{
 "cells": [
  {
   "cell_type": "markdown",
   "id": "6fd87861",
   "metadata": {},
   "source": [
    "# 10. Trabajando con los contenidos de los archivos que pueden acceder en el curso:• nombres• eval1 5• eval2 Manipule estos archivos ara realizar lo siguiente:• Generar una estructura con los nombres de los estudiantes y la suma de ambas notas.• alcular el promedio de las notas totales e informar que alumnos obtuvieron menos que el promedio."
   ]
  },
  {
   "cell_type": "markdown",
   "id": "fb1ac79b",
   "metadata": {},
   "source": [
    "## Defino las funciones para pasear los archivos:\n",
    "#### parsear_notas: recibe el nombre del archivo de numeros y devuelve una lista de int .\n",
    "#### parsear_nombres: recibe el nombre del archivo de nombres y devuelve una lista con cada nombre del archivo."
   ]
  },
  {
   "cell_type": "code",
   "execution_count": 2,
   "id": "bcaac56a",
   "metadata": {},
   "outputs": [],
   "source": [
    "##def parsear_archivo(arch : _io, l : list ):\n",
    "import re    \n",
    "def parsear_notas(nom_arch):\n",
    "    aux=open(nom_arch,encoding=\"utf8\")\n",
    "    aux= list(re.split(\"'|\\n|,| \",aux.read()))\n",
    "    aux= [p for p in aux if p]\n",
    "    for i in range(len(aux)):\n",
    "        aux[i] = int(aux[i])\n",
    "    return aux\n",
    "def parsear_nombres(nom_arch):\n",
    "    aux=open(nom_arch,encoding=\"utf8\")\n",
    "    aux= list(re.split(\"'|\\n|,| \",aux.read()))\n",
    "    aux= [p for p in aux if p]\n",
    "    return aux\n"
   ]
  },
  {
   "cell_type": "markdown",
   "id": "941e1bb7",
   "metadata": {},
   "source": [
    "### Invoco a las funciones y lo guardo en sus variables"
   ]
  },
  {
   "cell_type": "code",
   "execution_count": 3,
   "id": "d4bf5772",
   "metadata": {},
   "outputs": [],
   "source": [
    "nombres1= parsear_nombres(\"nombres_1.txt\")\n",
    "aval1= parsear_notas(\"eval1.txt\")\n",
    "aval2= parsear_notas(\"eval2.txt\")\n"
   ]
  },
  {
   "cell_type": "markdown",
   "id": "1e25307d",
   "metadata": {},
   "source": [
    "### Creo e inicialiso las variables\n",
    "### creo una funcion lambda que devuelve una tupla\n",
    "descarte la opcion de usar un diccionario ya que los nombres se podrian repetir"
   ]
  },
  {
   "cell_type": "code",
   "execution_count": 6,
   "id": "2fb48673",
   "metadata": {},
   "outputs": [],
   "source": [
    "nombres_y_notas = []\n",
    "total_notas= 0\n",
    "sumar_con_nombres = lambda nombres,total: (nombres,total) \n"
   ]
  },
  {
   "cell_type": "markdown",
   "id": "d82304ae",
   "metadata": {},
   "source": [
    "### recorro la lista de nombre y voy guardando la suma de las 2 notas en una lista de tuplas con (nombre, total)"
   ]
  },
  {
   "cell_type": "code",
   "execution_count": 7,
   "id": "02e902c8",
   "metadata": {},
   "outputs": [],
   "source": [
    "for i in range(len(nombres1)): \n",
    "    nombres_y_notas.append(sumar_con_nombres(nombres1[i], aval1[i]+aval2[i]))\n",
    "    total_notas+=aval1[i]+aval2[i]"
   ]
  },
  {
   "cell_type": "markdown",
   "id": "0746aca4",
   "metadata": {},
   "source": [
    "### calculo el promedio"
   ]
  },
  {
   "cell_type": "code",
   "execution_count": 8,
   "id": "b722a354",
   "metadata": {},
   "outputs": [],
   "source": [
    "prom = total_notas/len(nombres_y_notas)"
   ]
  },
  {
   "cell_type": "markdown",
   "id": "5b88f25a",
   "metadata": {},
   "source": [
    "### recorro nombres_y_notas e imprimo los que el total estan debajo del promedio"
   ]
  },
  {
   "cell_type": "code",
   "execution_count": 9,
   "id": "fb37a3a0",
   "metadata": {},
   "outputs": [
    {
     "name": "stdout",
     "output_type": "stream",
     "text": [
      "CESAR\n",
      "Diego\n",
      "Dolores\n",
      "DYLAN\n",
      "ELIANA\n",
      "Emanuel\n",
      "GONZALO\n",
      "Gregorio\n",
      "Ignacio\n",
      "Jonathan\n",
      "Jorge\n",
      "JUAN\n",
      "Julian\n",
      "Leonel\n",
      "Nicolás\n",
      "NICOLÁS\n",
      "Priscila\n",
      "Yanina\n"
     ]
    }
   ],
   "source": [
    "for n in nombres_y_notas:\n",
    "    if n[1] < prom:\n",
    "        print(n[0])"
   ]
  },
  {
   "cell_type": "code",
   "execution_count": null,
   "id": "7280e8db",
   "metadata": {},
   "outputs": [],
   "source": []
  }
 ],
 "metadata": {
  "kernelspec": {
   "display_name": "Python 3 (ipykernel)",
   "language": "python",
   "name": "python3"
  },
  "language_info": {
   "codemirror_mode": {
    "name": "ipython",
    "version": 3
   },
   "file_extension": ".py",
   "mimetype": "text/x-python",
   "name": "python",
   "nbconvert_exporter": "python",
   "pygments_lexer": "ipython3",
   "version": "3.10.0"
  }
 },
 "nbformat": 4,
 "nbformat_minor": 5
}
