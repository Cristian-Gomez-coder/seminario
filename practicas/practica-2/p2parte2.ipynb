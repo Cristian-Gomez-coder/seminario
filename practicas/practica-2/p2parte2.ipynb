{
 "cells": [
  {
   "cell_type": "markdown",
   "id": "ba2746d7",
   "metadata": {},
   "source": [
    "## 5. Retomamos el código visto en la teoría, que informaba si los caracteres “@” o “!” formaban parte de una palabra ingresada"
   ]
  },
  {
   "cell_type": "code",
   "execution_count": null,
   "id": "c14acfbb",
   "metadata": {},
   "outputs": [],
   "source": [
    "cadena = input(\"Ingresa la clave (debe tener menos de 10 caracteres y no␣,→contener los símbolos:@ y !):\")\n",
    "if len(cadena) > 10:\n",
    "    print(\"Ingresaste más de 10 carcateres\")\n",
    "if \"@\" in cadena or \"!\" in cadena:\n",
    "    print(\"Ingresaste alguno de estos símbolos: @ o !\" )\n",
    "else:\n",
    "    print(\"Clave válida\")"
   ]
  },
  {
   "cell_type": "markdown",
   "id": "d7314fb3",
   "metadata": {},
   "source": [
    "## 6. Dada una frase donde las palabras pueden estar repetidas e indistintamente en mayúsculas y minúsculas, imprimir una lista con todas las palabras sin repetir y en letra minúscula.\n"
   ]
  },
  {
   "cell_type": "code",
   "execution_count": 9,
   "id": "7e556d98",
   "metadata": {},
   "outputs": [
    {
     "name": "stdout",
     "output_type": "stream",
     "text": [
      "['quieras', 'fotos', 'podrías', 'realizar', 'trabajás', 'por', 'en', 'pequeña', 'gran', 'manera', 'archivos', 'gráfica', 'búsqueda', 'desear', 'si', 'y', 'renombrar', 'ejemplo', 'aplicación', 'que', 'de', 'encontrarás', 'con', 'interfaz', 'un', 'número', 'tarea', 'especializada', 'computadoras', 'texto', 'datos', 'gustaría', 'base', 'una', 'tal', 'reorganizar', 'te', 'vez', 'compleja', 'montón', 'simple', 'escribir', 'personalizada', 'juego', 'mucho', 'o', 'alguna', 'automatizar', 'eventualmente', 'reemplazo']\n"
     ]
    }
   ],
   "source": [
    "frase = \"\"\"Si trabajás mucho CON computadoras, eventualmente encontrarás que te gustaría\n",
    "automatizar alguna tarea. Por ejemplo, podrías desear realizar una búsqueda y\n",
    "reemplazo en un gran número DE archivos de texto, o renombrar y reorganizar\n",
    "un montón de archivos con fotos de una manera compleja. Tal vez quieras\n",
    "escribir alguna pequeña base de datos personalizada, o una aplicación\n",
    "especializada con interfaz gráfica, o UN juego simple.\"\"\"\n",
    "import re\n",
    "palabras= re.split(\" |\\,|\\.|\\n\", frase.lower())\n",
    "palabras= [p for p in palabras if p]\n",
    "print(list(set(palabras)))"
   ]
  },
  {
   "cell_type": "markdown",
   "id": "e228a40f",
   "metadata": {},
   "source": [
    "## 7. Escriba un programa que solicite que se ingrese una palabra o frase y permita identificar si la\n",
    "misma es un Heterograma (tenga en cuenta que el contenido del enlace es una traducción del\n",
    "inglés por lo cual las palabras que nombra no son heterogramas en español). Un Heterograma\n",
    "es una palabra o frase que no tiene ninguna letra repetida entre sus caracteres.\n"
   ]
  },
  {
   "cell_type": "code",
   "execution_count": 36,
   "id": "95010364",
   "metadata": {},
   "outputs": [
    {
     "name": "stdout",
     "output_type": "stream",
     "text": [
      "ingrese una palabra o frase Heterogeneacon diez uñas\n",
      "es heterogenea\n"
     ]
    }
   ],
   "source": [
    "from collections import Counter\n",
    "texto= input(\"ingrese una palabra o frase Heterogenea\")\n",
    "texto= re.split(\"-| |\\,|\\.|\\n|\", texto.lower())\n",
    "texto= [p for p in texto if p]\n",
    "texto = Counter(texto)\n",
    "aux= 0\n",
    "for i in texto:\n",
    "    if aux<texto[i]:\n",
    "        aux= texto[i]\n",
    "if aux>1:\n",
    "    print(\"no es heterogenea\")\n",
    "else:\n",
    "    print(\"es heterogenea\")"
   ]
  },
  {
   "cell_type": "markdown",
   "id": "66fadb18",
   "metadata": {},
   "source": [
    "8. Escriba un programa que solicite por teclado una palabra y calcule el valor de la misma dada\n",
    "la siguiente tabla de valores del juego Scrabble:Letra valor\n",
    "A, E, I, O, U, L, N, R, S, T :1\n",
    "D, G :2\n",
    "B, C, M, P :3\n",
    "F, H, V, W, Y :4\n",
    "K :5\n",
    "J, X :8\n",
    "Q, Z :10"
   ]
  },
  {
   "cell_type": "code",
   "execution_count": 65,
   "id": "10fc8501",
   "metadata": {},
   "outputs": [
    {
     "name": "stdout",
     "output_type": "stream",
     "text": [
      "{'A': 1, 'E': 1, 'I': 1, 'O': 1, 'U': 1, 'L': 1, 'N': 1, 'R': 1, 'S': 1, 'T': 1, 'D': 2, 'G': 2, 'B': 3, 'C': 3, 'M': 3, 'P': 3, 'F': 4, 'H': 4, 'V': 4, 'W': 4, 'Y': 4, 'K': 5, 'J': 8, 'X': 8, 'Q': 10, 'Z': 10}\n",
      "ingrese una palabra a calcular: solo\n",
      "el valor de la palabra es: 4\n"
     ]
    }
   ],
   "source": [
    "valores={\"A\":1, \"E\":1, \"I\":1, \"O\":1, \"U\":1, \"L\":1, \"N\":1, \"R\":1, \"S\":1, \"T\":1, \"D\":2, \"G\" :2,\"B\":3, \"C\":3, \"M\":3, \"P\" :3,\n",
    "         \"F\":4, \"H\":4, \"V\":4, \"W\":4, \"Y\" :4,\"K\":5,\"J\":8,\"X\":8,\"Q\":10,\"Z\":10}\n",
    "print (valores)\n",
    "pal = input(\"ingrese una palabra a calcular: \")\n",
    "pal= re.split(\"\",pal.upper())\n",
    "pal = [p for p in pal if p]\n",
    "cant= 0\n",
    "for i in pal:\n",
    "    cant+=valores[i]\n",
    "print(f\"el valor de la palabra es: {cant}\")"
   ]
  },
  {
   "cell_type": "markdown",
   "id": "a164a237",
   "metadata": {},
   "source": [
    "9. La idea es tratar de programar una de las partes principales del juego “Buscaminas”. La idea\n",
    "es que dado una estructura que dice que celdas tienen minas y que celdas no las tienen, como\n",
    "la siguiente:\n",
    "[\n",
    "'-*-*-',\n",
    "'--*--',\n",
    "'----*',\n",
    "'*----',\n",
    "]\n"
   ]
  },
  {
   "cell_type": "code",
   "execution_count": 1,
   "id": "02e231f8",
   "metadata": {},
   "outputs": [
    {
     "name": "stdout",
     "output_type": "stream",
     "text": [
      "['1*3*1', '12*32', '1212*', '*1011']\n"
     ]
    }
   ],
   "source": [
    "def calcular_total(v:list):\n",
    "    \"\"\"calcula el todas las celdas con * al rededor\n",
    "\n",
    "    Args:\n",
    "        v (list): vector con celdas a analizar\n",
    "    Retorns:\n",
    "        lista(lista):devuelve un vector de string analizado con la cantidad de * al rededor de cada celda\n",
    "    \"\"\"\n",
    "    def calcular_posicion(v:list, y: int, x:int):\n",
    "        \"\"\"calcula la cantidad de * al rededor de x,y\n",
    "\n",
    "        Args:\n",
    "            v (list): lista a calcular\n",
    "            y (int): posicion inicial en alto\n",
    "            x (int): posicion inicial en ancho\n",
    "\n",
    "        Returns:\n",
    "            cant: devuelve la cantidad de * alrededor de la posicion inicial\n",
    "        \"\"\"\n",
    "        cant = 0\n",
    "        cero=0\n",
    "        max_y= len(v)\n",
    "        max_x= len(v[y])\n",
    "        if (y+1) < max_y and (x+1) < max_x and \"*\" == v[y+1][x+1]:\n",
    "            cant+=1\n",
    "        if (y+1) < max_y  and \"*\" == v[y+1][x]:\n",
    "            cant+=1\n",
    "        if y+1 < max_y and x-1 >= cero and \"*\" == v[y+1][x-1]:\n",
    "            cant+=1\n",
    "        if y-1 >= cero  and \"*\" == v[y-1][x]:\n",
    "            cant+=1\n",
    "        if y-1 >= cero and x+1< max_x and \"*\" == v[y-1][x+1]:\n",
    "            cant+=1\n",
    "        if y-1 >= cero and x-1 >=cero and \"*\" == v[y-1][x-1]:\n",
    "            cant+=1\n",
    "        if x-1 >= cero and \"*\" == v[y][x-1]:\n",
    "            cant+=1\n",
    "        if  x+1 <max_x and \"*\" == v[y][x+1]:\n",
    "            cant+=1\n",
    "        return cant\n",
    "        \n",
    "    lista=[]\n",
    "    for y in range(len(v)):\n",
    "        cad=\"\"\n",
    "        for x in range(len(v[y])):\n",
    "            if v[y][x]!= \"*\":\n",
    "                cad = cad + str(calcular_posicion(v, y, x))\n",
    "            else:\n",
    "                cad=cad +\"*\"\n",
    "        lista.append(cad)\n",
    "    #print(lista)\n",
    "    return lista\n",
    "minas= ['-*-*-','--*--','----*','*----']\n",
    "print(calcular_total(minas))"
   ]
  },
  {
   "cell_type": "code",
   "execution_count": null,
   "id": "fa384d52",
   "metadata": {},
   "outputs": [],
   "source": [
    "txt.replace(\"\\n\", \" \")#para remplasar por otro"
   ]
  }
 ],
 "metadata": {
  "kernelspec": {
   "display_name": "Python 3 (ipykernel)",
   "language": "python",
   "name": "python3"
  },
  "language_info": {
   "codemirror_mode": {
    "name": "ipython",
    "version": 3
   },
   "file_extension": ".py",
   "mimetype": "text/x-python",
   "name": "python",
   "nbconvert_exporter": "python",
   "pygments_lexer": "ipython3",
   "version": "3.10.0"
  }
 },
 "nbformat": 4,
 "nbformat_minor": 5
}
